{
 "cells": [
  {
   "cell_type": "markdown",
   "id": "61f01b3b-d822-4f66-9d41-8d29436fbe32",
   "metadata": {},
   "source": [
    "# Data Science Tools and Ecosystem\n",
    "\n",
    "In this notebook, Data Science Tools and Ecosystem are summarized.Some of the popular languages that Data Scientists use are:\n",
    "1. Python\n",
    "2. R\n",
    "3. Java\n",
    "\n",
    "Some of the commonly used libraries used by Data Scientists include:\n",
    "1. Pandas\n",
    "2. Numpy\n",
    "3. TensorFlow\n",
    "\n",
    "| Data Science Tools | \n",
    "|:--------:|\n",
    "|  Jupyter Labs   |\n",
    "|  RStudio   |\n",
    "|  Google Cloud Vertex AI   |\n",
    "\n",
    "### Below are a few examples of evaluating arithmetic expressions in Python.\n",
    "\n",
    "This a simple arithmetic expression to mutiply then add integers\n",
    "\n",
    "$$\n",
    "(3*4)+5\n",
    "$$"
   ]
  },
  {
   "cell_type": "code",
   "execution_count": 2,
   "id": "aa958b6d-cacc-4962-89f3-a0d199175a7e",
   "metadata": {
    "tags": []
   },
   "outputs": [
    {
     "data": {
      "text/plain": [
       "17"
      ]
     },
     "execution_count": 2,
     "metadata": {},
     "output_type": "execute_result"
    }
   ],
   "source": [
    "(3*4)+5"
   ]
  },
  {
   "cell_type": "markdown",
   "id": "face9b62-5143-4147-9136-9b08a3abbb30",
   "metadata": {},
   "source": [
    "This will convert 200 minutes to hours by diving by 60"
   ]
  },
  {
   "cell_type": "code",
   "execution_count": 3,
   "id": "d5cf661a-9785-4e7e-8e80-c03cfa16d59b",
   "metadata": {
    "tags": []
   },
   "outputs": [
    {
     "data": {
      "text/plain": [
       "3.3333333333333335"
      ]
     },
     "execution_count": 3,
     "metadata": {},
     "output_type": "execute_result"
    }
   ],
   "source": [
    "200/60"
   ]
  },
  {
   "cell_type": "markdown",
   "id": "121df614-fdcd-4235-b75b-4a38b406f3dd",
   "metadata": {},
   "source": [
    "**Objectives**\n",
    "\n",
    "- List popular languages for Data Science\n",
    "- List popular libraries\n",
    "- List popular environments\n",
    "- Familiarize the student with jupyterlabs\n",
    "- Give a taste of the power of Python\n"
   ]
  },
  {
   "cell_type": "markdown",
   "id": "64a6626c-32cd-4430-800a-c445939bd2ac",
   "metadata": {},
   "source": [
    "## Author\n",
    "**Francisco Alonso**"
   ]
  },
  {
   "cell_type": "code",
   "execution_count": null,
   "id": "8e2bbaab-2d76-4d4d-977a-024dcc2f89eb",
   "metadata": {},
   "outputs": [],
   "source": []
  }
 ],
 "metadata": {
  "kernelspec": {
   "display_name": "Python 3 (ipykernel)",
   "language": "python",
   "name": "python3"
  },
  "language_info": {
   "codemirror_mode": {
    "name": "ipython",
    "version": 3
   },
   "file_extension": ".py",
   "mimetype": "text/x-python",
   "name": "python",
   "nbconvert_exporter": "python",
   "pygments_lexer": "ipython3",
   "version": "3.12.7"
  }
 },
 "nbformat": 4,
 "nbformat_minor": 5
}
